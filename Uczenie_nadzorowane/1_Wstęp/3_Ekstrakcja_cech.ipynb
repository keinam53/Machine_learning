{
  "nbformat": 4,
  "nbformat_minor": 0,
  "metadata": {
    "colab": {
      "name": "3_Ekstrakcja_cech.ipynb",
      "provenance": [],
      "authorship_tag": "ABX9TyMi5+r44dQnoSboTb3aDEEt",
      "include_colab_link": true
    },
    "kernelspec": {
      "name": "python3",
      "display_name": "Python 3"
    },
    "language_info": {
      "name": "python"
    }
  },
  "cells": [
    {
      "cell_type": "markdown",
      "metadata": {
        "id": "view-in-github",
        "colab_type": "text"
      },
      "source": [
        "<a href=\"https://colab.research.google.com/github/keinam53/Machine_learning/blob/main/Uczenie_nadzorowane/1_Wst%C4%99p/3_Ekstrakcja_cech.ipynb\" target=\"_parent\"><img src=\"https://colab.research.google.com/assets/colab-badge.svg\" alt=\"Open In Colab\"/></a>"
      ]
    },
    {
      "cell_type": "markdown",
      "metadata": {
        "id": "EFW7cZ4q2BYH"
      },
      "source": [
        "### Ekstrakcja cech\n",
        "1. [Import bibliotek](#0)\n",
        "2. [Załadowanie danych](#1)\n",
        "3. [Utworzenie kopii danych](#2)\n",
        "4. [Generowanie nowych zmiennych](#3)\n",
        "5. [Dyskretyzacja zmiennej ciągłej](#4)\n",
        "6. [Ekstrakcja cech](#5)"
      ]
    },
    {
      "cell_type": "markdown",
      "metadata": {
        "id": "4fYhHd9E2Nlk"
      },
      "source": [
        "### <a name='0'></a> Import bibliotek"
      ]
    },
    {
      "cell_type": "code",
      "metadata": {
        "colab": {
          "base_uri": "https://localhost:8080/",
          "height": 36
        },
        "id": "r4woWA6U0oIc",
        "outputId": "c1480c35-7712-4b7f-825d-eadd60357bca"
      },
      "source": [
        "import numpy as np\n",
        "import pandas as pd\n",
        "import sklearn\n",
        "\n",
        "sklearn.__version__"
      ],
      "execution_count": 1,
      "outputs": [
        {
          "output_type": "execute_result",
          "data": {
            "application/vnd.google.colaboratory.intrinsic+json": {
              "type": "string"
            },
            "text/plain": [
              "'0.22.2.post1'"
            ]
          },
          "metadata": {
            "tags": []
          },
          "execution_count": 1
        }
      ]
    },
    {
      "cell_type": "markdown",
      "metadata": {
        "id": "8RhOTT_C2TOH"
      },
      "source": [
        "### <a name='1'></a> Załadowanie danych\n",
        "Funkcja pobierająca wartość spółki Amazon"
      ]
    },
    {
      "cell_type": "code",
      "metadata": {
        "colab": {
          "base_uri": "https://localhost:8080/",
          "height": 238
        },
        "id": "FY_gJg0y2RvQ",
        "outputId": "2ef85999-fbdd-49ff-877a-f1c11d983927"
      },
      "source": [
        "def fetch_financial_data(company='AMZN'):\n",
        "  import pandas_datareader.data as web\n",
        "  return web.DataReader(name=company, data_source='stooq')\n",
        "\n",
        "df_raw = fetch_financial_data()\n",
        "df_raw.head()"
      ],
      "execution_count": 4,
      "outputs": [
        {
          "output_type": "execute_result",
          "data": {
            "text/html": [
              "<div>\n",
              "<style scoped>\n",
              "    .dataframe tbody tr th:only-of-type {\n",
              "        vertical-align: middle;\n",
              "    }\n",
              "\n",
              "    .dataframe tbody tr th {\n",
              "        vertical-align: top;\n",
              "    }\n",
              "\n",
              "    .dataframe thead th {\n",
              "        text-align: right;\n",
              "    }\n",
              "</style>\n",
              "<table border=\"1\" class=\"dataframe\">\n",
              "  <thead>\n",
              "    <tr style=\"text-align: right;\">\n",
              "      <th></th>\n",
              "      <th>Open</th>\n",
              "      <th>High</th>\n",
              "      <th>Low</th>\n",
              "      <th>Close</th>\n",
              "      <th>Volume</th>\n",
              "    </tr>\n",
              "    <tr>\n",
              "      <th>Date</th>\n",
              "      <th></th>\n",
              "      <th></th>\n",
              "      <th></th>\n",
              "      <th></th>\n",
              "      <th></th>\n",
              "    </tr>\n",
              "  </thead>\n",
              "  <tbody>\n",
              "    <tr>\n",
              "      <th>2021-07-02</th>\n",
              "      <td>3451.64</td>\n",
              "      <td>3511.7200</td>\n",
              "      <td>3436.9200</td>\n",
              "      <td>3510.98</td>\n",
              "      <td>3176697</td>\n",
              "    </tr>\n",
              "    <tr>\n",
              "      <th>2021-07-01</th>\n",
              "      <td>3434.61</td>\n",
              "      <td>3457.0000</td>\n",
              "      <td>3409.4206</td>\n",
              "      <td>3432.97</td>\n",
              "      <td>2037053</td>\n",
              "    </tr>\n",
              "    <tr>\n",
              "      <th>2021-06-30</th>\n",
              "      <td>3441.06</td>\n",
              "      <td>3471.6019</td>\n",
              "      <td>3435.0000</td>\n",
              "      <td>3440.16</td>\n",
              "      <td>2403992</td>\n",
              "    </tr>\n",
              "    <tr>\n",
              "      <th>2021-06-29</th>\n",
              "      <td>3438.82</td>\n",
              "      <td>3456.0300</td>\n",
              "      <td>3423.0300</td>\n",
              "      <td>3448.14</td>\n",
              "      <td>2098439</td>\n",
              "    </tr>\n",
              "    <tr>\n",
              "      <th>2021-06-28</th>\n",
              "      <td>3416.00</td>\n",
              "      <td>3448.0000</td>\n",
              "      <td>3413.5098</td>\n",
              "      <td>3443.89</td>\n",
              "      <td>2242793</td>\n",
              "    </tr>\n",
              "  </tbody>\n",
              "</table>\n",
              "</div>"
            ],
            "text/plain": [
              "               Open       High        Low    Close   Volume\n",
              "Date                                                       \n",
              "2021-07-02  3451.64  3511.7200  3436.9200  3510.98  3176697\n",
              "2021-07-01  3434.61  3457.0000  3409.4206  3432.97  2037053\n",
              "2021-06-30  3441.06  3471.6019  3435.0000  3440.16  2403992\n",
              "2021-06-29  3438.82  3456.0300  3423.0300  3448.14  2098439\n",
              "2021-06-28  3416.00  3448.0000  3413.5098  3443.89  2242793"
            ]
          },
          "metadata": {
            "tags": []
          },
          "execution_count": 4
        }
      ]
    },
    {
      "cell_type": "markdown",
      "metadata": {
        "id": "nargYVdn5tEA"
      },
      "source": [
        "### <a name='2'></a> Utworzenie kopii danych"
      ]
    },
    {
      "cell_type": "code",
      "metadata": {
        "colab": {
          "base_uri": "https://localhost:8080/"
        },
        "id": "xf4nzYgx3zYs",
        "outputId": "3c686b49-30a8-4481-843c-7d0f5aa6a280"
      },
      "source": [
        "df = df_raw.copy()\n",
        "df = df[:5]\n",
        "df.info()"
      ],
      "execution_count": 5,
      "outputs": [
        {
          "output_type": "stream",
          "text": [
            "<class 'pandas.core.frame.DataFrame'>\n",
            "DatetimeIndex: 5 entries, 2021-07-02 to 2021-06-28\n",
            "Data columns (total 5 columns):\n",
            " #   Column  Non-Null Count  Dtype  \n",
            "---  ------  --------------  -----  \n",
            " 0   Open    5 non-null      float64\n",
            " 1   High    5 non-null      float64\n",
            " 2   Low     5 non-null      float64\n",
            " 3   Close   5 non-null      float64\n",
            " 4   Volume  5 non-null      int64  \n",
            "dtypes: float64(4), int64(1)\n",
            "memory usage: 240.0 bytes\n"
          ],
          "name": "stdout"
        }
      ]
    },
    {
      "cell_type": "markdown",
      "metadata": {
        "id": "6rd2se5w6GQh"
      },
      "source": [
        "### <a name='3'></a> Generowanie nowych zmiennych"
      ]
    },
    {
      "cell_type": "code",
      "metadata": {
        "colab": {
          "base_uri": "https://localhost:8080/"
        },
        "id": "GJst7JGN6ABJ",
        "outputId": "1c58c230-5fad-4857-c323-40d613e83c46"
      },
      "source": [
        "df.index.day"
      ],
      "execution_count": 7,
      "outputs": [
        {
          "output_type": "execute_result",
          "data": {
            "text/plain": [
              "Int64Index([2, 1, 30, 29, 28], dtype='int64', name='Date')"
            ]
          },
          "metadata": {
            "tags": []
          },
          "execution_count": 7
        }
      ]
    },
    {
      "cell_type": "code",
      "metadata": {
        "colab": {
          "base_uri": "https://localhost:8080/",
          "height": 238
        },
        "id": "lwmLS6n36X64",
        "outputId": "6940907e-1d43-4a30-b15d-6d46fe59a60a"
      },
      "source": [
        "df['day'] = df.index.day\n",
        "df['month'] = df.index.month\n",
        "df['year'] = df.index.year\n",
        "df"
      ],
      "execution_count": 8,
      "outputs": [
        {
          "output_type": "execute_result",
          "data": {
            "text/html": [
              "<div>\n",
              "<style scoped>\n",
              "    .dataframe tbody tr th:only-of-type {\n",
              "        vertical-align: middle;\n",
              "    }\n",
              "\n",
              "    .dataframe tbody tr th {\n",
              "        vertical-align: top;\n",
              "    }\n",
              "\n",
              "    .dataframe thead th {\n",
              "        text-align: right;\n",
              "    }\n",
              "</style>\n",
              "<table border=\"1\" class=\"dataframe\">\n",
              "  <thead>\n",
              "    <tr style=\"text-align: right;\">\n",
              "      <th></th>\n",
              "      <th>Open</th>\n",
              "      <th>High</th>\n",
              "      <th>Low</th>\n",
              "      <th>Close</th>\n",
              "      <th>Volume</th>\n",
              "      <th>day</th>\n",
              "      <th>month</th>\n",
              "      <th>year</th>\n",
              "    </tr>\n",
              "    <tr>\n",
              "      <th>Date</th>\n",
              "      <th></th>\n",
              "      <th></th>\n",
              "      <th></th>\n",
              "      <th></th>\n",
              "      <th></th>\n",
              "      <th></th>\n",
              "      <th></th>\n",
              "      <th></th>\n",
              "    </tr>\n",
              "  </thead>\n",
              "  <tbody>\n",
              "    <tr>\n",
              "      <th>2021-07-02</th>\n",
              "      <td>3451.64</td>\n",
              "      <td>3511.7200</td>\n",
              "      <td>3436.9200</td>\n",
              "      <td>3510.98</td>\n",
              "      <td>3176697</td>\n",
              "      <td>2</td>\n",
              "      <td>7</td>\n",
              "      <td>2021</td>\n",
              "    </tr>\n",
              "    <tr>\n",
              "      <th>2021-07-01</th>\n",
              "      <td>3434.61</td>\n",
              "      <td>3457.0000</td>\n",
              "      <td>3409.4206</td>\n",
              "      <td>3432.97</td>\n",
              "      <td>2037053</td>\n",
              "      <td>1</td>\n",
              "      <td>7</td>\n",
              "      <td>2021</td>\n",
              "    </tr>\n",
              "    <tr>\n",
              "      <th>2021-06-30</th>\n",
              "      <td>3441.06</td>\n",
              "      <td>3471.6019</td>\n",
              "      <td>3435.0000</td>\n",
              "      <td>3440.16</td>\n",
              "      <td>2403992</td>\n",
              "      <td>30</td>\n",
              "      <td>6</td>\n",
              "      <td>2021</td>\n",
              "    </tr>\n",
              "    <tr>\n",
              "      <th>2021-06-29</th>\n",
              "      <td>3438.82</td>\n",
              "      <td>3456.0300</td>\n",
              "      <td>3423.0300</td>\n",
              "      <td>3448.14</td>\n",
              "      <td>2098439</td>\n",
              "      <td>29</td>\n",
              "      <td>6</td>\n",
              "      <td>2021</td>\n",
              "    </tr>\n",
              "    <tr>\n",
              "      <th>2021-06-28</th>\n",
              "      <td>3416.00</td>\n",
              "      <td>3448.0000</td>\n",
              "      <td>3413.5098</td>\n",
              "      <td>3443.89</td>\n",
              "      <td>2242793</td>\n",
              "      <td>28</td>\n",
              "      <td>6</td>\n",
              "      <td>2021</td>\n",
              "    </tr>\n",
              "  </tbody>\n",
              "</table>\n",
              "</div>"
            ],
            "text/plain": [
              "               Open       High        Low    Close   Volume  day  month  year\n",
              "Date                                                                         \n",
              "2021-07-02  3451.64  3511.7200  3436.9200  3510.98  3176697    2      7  2021\n",
              "2021-07-01  3434.61  3457.0000  3409.4206  3432.97  2037053    1      7  2021\n",
              "2021-06-30  3441.06  3471.6019  3435.0000  3440.16  2403992   30      6  2021\n",
              "2021-06-29  3438.82  3456.0300  3423.0300  3448.14  2098439   29      6  2021\n",
              "2021-06-28  3416.00  3448.0000  3413.5098  3443.89  2242793   28      6  2021"
            ]
          },
          "metadata": {
            "tags": []
          },
          "execution_count": 8
        }
      ]
    },
    {
      "cell_type": "markdown",
      "metadata": {
        "id": "Tt1w8Sze69dr"
      },
      "source": [
        "### <a name='4'></a> Dyskretyzacja zmiennej ciągłej\n",
        "cut() - tworzenie przedziałów wartości"
      ]
    },
    {
      "cell_type": "code",
      "metadata": {
        "colab": {
          "base_uri": "https://localhost:8080/",
          "height": 269
        },
        "id": "LzyDSZU36z8z",
        "outputId": "02bc01a7-f0ce-419a-af62-7ad37ab76970"
      },
      "source": [
        "df = pd.DataFrame(data={'height': [175., 178.5, 185., 191., 184.5, 183., 168.]})\n",
        "df"
      ],
      "execution_count": 9,
      "outputs": [
        {
          "output_type": "execute_result",
          "data": {
            "text/html": [
              "<div>\n",
              "<style scoped>\n",
              "    .dataframe tbody tr th:only-of-type {\n",
              "        vertical-align: middle;\n",
              "    }\n",
              "\n",
              "    .dataframe tbody tr th {\n",
              "        vertical-align: top;\n",
              "    }\n",
              "\n",
              "    .dataframe thead th {\n",
              "        text-align: right;\n",
              "    }\n",
              "</style>\n",
              "<table border=\"1\" class=\"dataframe\">\n",
              "  <thead>\n",
              "    <tr style=\"text-align: right;\">\n",
              "      <th></th>\n",
              "      <th>height</th>\n",
              "    </tr>\n",
              "  </thead>\n",
              "  <tbody>\n",
              "    <tr>\n",
              "      <th>0</th>\n",
              "      <td>175.0</td>\n",
              "    </tr>\n",
              "    <tr>\n",
              "      <th>1</th>\n",
              "      <td>178.5</td>\n",
              "    </tr>\n",
              "    <tr>\n",
              "      <th>2</th>\n",
              "      <td>185.0</td>\n",
              "    </tr>\n",
              "    <tr>\n",
              "      <th>3</th>\n",
              "      <td>191.0</td>\n",
              "    </tr>\n",
              "    <tr>\n",
              "      <th>4</th>\n",
              "      <td>184.5</td>\n",
              "    </tr>\n",
              "    <tr>\n",
              "      <th>5</th>\n",
              "      <td>183.0</td>\n",
              "    </tr>\n",
              "    <tr>\n",
              "      <th>6</th>\n",
              "      <td>168.0</td>\n",
              "    </tr>\n",
              "  </tbody>\n",
              "</table>\n",
              "</div>"
            ],
            "text/plain": [
              "   height\n",
              "0   175.0\n",
              "1   178.5\n",
              "2   185.0\n",
              "3   191.0\n",
              "4   184.5\n",
              "5   183.0\n",
              "6   168.0"
            ]
          },
          "metadata": {
            "tags": []
          },
          "execution_count": 9
        }
      ]
    },
    {
      "cell_type": "code",
      "metadata": {
        "colab": {
          "base_uri": "https://localhost:8080/",
          "height": 269
        },
        "id": "enjOsrFN7ju4",
        "outputId": "5d673fba-20e1-4857-cc5e-e099e702b35d"
      },
      "source": [
        "df['height-cut'] = pd.cut(x=df['height'], bins=3)\n",
        "df"
      ],
      "execution_count": 12,
      "outputs": [
        {
          "output_type": "execute_result",
          "data": {
            "text/html": [
              "<div>\n",
              "<style scoped>\n",
              "    .dataframe tbody tr th:only-of-type {\n",
              "        vertical-align: middle;\n",
              "    }\n",
              "\n",
              "    .dataframe tbody tr th {\n",
              "        vertical-align: top;\n",
              "    }\n",
              "\n",
              "    .dataframe thead th {\n",
              "        text-align: right;\n",
              "    }\n",
              "</style>\n",
              "<table border=\"1\" class=\"dataframe\">\n",
              "  <thead>\n",
              "    <tr style=\"text-align: right;\">\n",
              "      <th></th>\n",
              "      <th>height</th>\n",
              "      <th>height-cut</th>\n",
              "    </tr>\n",
              "  </thead>\n",
              "  <tbody>\n",
              "    <tr>\n",
              "      <th>0</th>\n",
              "      <td>175.0</td>\n",
              "      <td>(167.977, 175.667]</td>\n",
              "    </tr>\n",
              "    <tr>\n",
              "      <th>1</th>\n",
              "      <td>178.5</td>\n",
              "      <td>(175.667, 183.333]</td>\n",
              "    </tr>\n",
              "    <tr>\n",
              "      <th>2</th>\n",
              "      <td>185.0</td>\n",
              "      <td>(183.333, 191.0]</td>\n",
              "    </tr>\n",
              "    <tr>\n",
              "      <th>3</th>\n",
              "      <td>191.0</td>\n",
              "      <td>(183.333, 191.0]</td>\n",
              "    </tr>\n",
              "    <tr>\n",
              "      <th>4</th>\n",
              "      <td>184.5</td>\n",
              "      <td>(183.333, 191.0]</td>\n",
              "    </tr>\n",
              "    <tr>\n",
              "      <th>5</th>\n",
              "      <td>183.0</td>\n",
              "      <td>(175.667, 183.333]</td>\n",
              "    </tr>\n",
              "    <tr>\n",
              "      <th>6</th>\n",
              "      <td>168.0</td>\n",
              "      <td>(167.977, 175.667]</td>\n",
              "    </tr>\n",
              "  </tbody>\n",
              "</table>\n",
              "</div>"
            ],
            "text/plain": [
              "   height          height-cut\n",
              "0   175.0  (167.977, 175.667]\n",
              "1   178.5  (175.667, 183.333]\n",
              "2   185.0    (183.333, 191.0]\n",
              "3   191.0    (183.333, 191.0]\n",
              "4   184.5    (183.333, 191.0]\n",
              "5   183.0  (175.667, 183.333]\n",
              "6   168.0  (167.977, 175.667]"
            ]
          },
          "metadata": {
            "tags": []
          },
          "execution_count": 12
        }
      ]
    },
    {
      "cell_type": "code",
      "metadata": {
        "colab": {
          "base_uri": "https://localhost:8080/",
          "height": 269
        },
        "id": "o_cDEGTN72tP",
        "outputId": "1fb2b88a-5b01-4428-a8eb-c2ac424c0494"
      },
      "source": [
        "df['height-cut'] = pd.cut(x=df['height'], bins=(160, 175, 180, 195))\n",
        "df"
      ],
      "execution_count": 16,
      "outputs": [
        {
          "output_type": "execute_result",
          "data": {
            "text/html": [
              "<div>\n",
              "<style scoped>\n",
              "    .dataframe tbody tr th:only-of-type {\n",
              "        vertical-align: middle;\n",
              "    }\n",
              "\n",
              "    .dataframe tbody tr th {\n",
              "        vertical-align: top;\n",
              "    }\n",
              "\n",
              "    .dataframe thead th {\n",
              "        text-align: right;\n",
              "    }\n",
              "</style>\n",
              "<table border=\"1\" class=\"dataframe\">\n",
              "  <thead>\n",
              "    <tr style=\"text-align: right;\">\n",
              "      <th></th>\n",
              "      <th>height</th>\n",
              "      <th>height-cut</th>\n",
              "    </tr>\n",
              "  </thead>\n",
              "  <tbody>\n",
              "    <tr>\n",
              "      <th>0</th>\n",
              "      <td>175.0</td>\n",
              "      <td>(160, 175]</td>\n",
              "    </tr>\n",
              "    <tr>\n",
              "      <th>1</th>\n",
              "      <td>178.5</td>\n",
              "      <td>(175, 180]</td>\n",
              "    </tr>\n",
              "    <tr>\n",
              "      <th>2</th>\n",
              "      <td>185.0</td>\n",
              "      <td>(180, 195]</td>\n",
              "    </tr>\n",
              "    <tr>\n",
              "      <th>3</th>\n",
              "      <td>191.0</td>\n",
              "      <td>(180, 195]</td>\n",
              "    </tr>\n",
              "    <tr>\n",
              "      <th>4</th>\n",
              "      <td>184.5</td>\n",
              "      <td>(180, 195]</td>\n",
              "    </tr>\n",
              "    <tr>\n",
              "      <th>5</th>\n",
              "      <td>183.0</td>\n",
              "      <td>(180, 195]</td>\n",
              "    </tr>\n",
              "    <tr>\n",
              "      <th>6</th>\n",
              "      <td>168.0</td>\n",
              "      <td>(160, 175]</td>\n",
              "    </tr>\n",
              "  </tbody>\n",
              "</table>\n",
              "</div>"
            ],
            "text/plain": [
              "   height  height-cut\n",
              "0   175.0  (160, 175]\n",
              "1   178.5  (175, 180]\n",
              "2   185.0  (180, 195]\n",
              "3   191.0  (180, 195]\n",
              "4   184.5  (180, 195]\n",
              "5   183.0  (180, 195]\n",
              "6   168.0  (160, 175]"
            ]
          },
          "metadata": {
            "tags": []
          },
          "execution_count": 16
        }
      ]
    },
    {
      "cell_type": "code",
      "metadata": {
        "colab": {
          "base_uri": "https://localhost:8080/",
          "height": 269
        },
        "id": "Kr36Syxg8U-b",
        "outputId": "e40be78c-d5f4-43c4-8e9e-dbe1a13e7dce"
      },
      "source": [
        "df['height-cut'] = pd.cut(x=df['height'], bins=(160, 175, 180, 195), labels=['small', 'medium', 'high'])\n",
        "df"
      ],
      "execution_count": 18,
      "outputs": [
        {
          "output_type": "execute_result",
          "data": {
            "text/html": [
              "<div>\n",
              "<style scoped>\n",
              "    .dataframe tbody tr th:only-of-type {\n",
              "        vertical-align: middle;\n",
              "    }\n",
              "\n",
              "    .dataframe tbody tr th {\n",
              "        vertical-align: top;\n",
              "    }\n",
              "\n",
              "    .dataframe thead th {\n",
              "        text-align: right;\n",
              "    }\n",
              "</style>\n",
              "<table border=\"1\" class=\"dataframe\">\n",
              "  <thead>\n",
              "    <tr style=\"text-align: right;\">\n",
              "      <th></th>\n",
              "      <th>height</th>\n",
              "      <th>height-cut</th>\n",
              "    </tr>\n",
              "  </thead>\n",
              "  <tbody>\n",
              "    <tr>\n",
              "      <th>0</th>\n",
              "      <td>175.0</td>\n",
              "      <td>small</td>\n",
              "    </tr>\n",
              "    <tr>\n",
              "      <th>1</th>\n",
              "      <td>178.5</td>\n",
              "      <td>medium</td>\n",
              "    </tr>\n",
              "    <tr>\n",
              "      <th>2</th>\n",
              "      <td>185.0</td>\n",
              "      <td>high</td>\n",
              "    </tr>\n",
              "    <tr>\n",
              "      <th>3</th>\n",
              "      <td>191.0</td>\n",
              "      <td>high</td>\n",
              "    </tr>\n",
              "    <tr>\n",
              "      <th>4</th>\n",
              "      <td>184.5</td>\n",
              "      <td>high</td>\n",
              "    </tr>\n",
              "    <tr>\n",
              "      <th>5</th>\n",
              "      <td>183.0</td>\n",
              "      <td>high</td>\n",
              "    </tr>\n",
              "    <tr>\n",
              "      <th>6</th>\n",
              "      <td>168.0</td>\n",
              "      <td>small</td>\n",
              "    </tr>\n",
              "  </tbody>\n",
              "</table>\n",
              "</div>"
            ],
            "text/plain": [
              "   height height-cut\n",
              "0   175.0      small\n",
              "1   178.5     medium\n",
              "2   185.0       high\n",
              "3   191.0       high\n",
              "4   184.5       high\n",
              "5   183.0       high\n",
              "6   168.0      small"
            ]
          },
          "metadata": {
            "tags": []
          },
          "execution_count": 18
        }
      ]
    },
    {
      "cell_type": "code",
      "metadata": {
        "colab": {
          "base_uri": "https://localhost:8080/",
          "height": 269
        },
        "id": "LY754ciU9MLs",
        "outputId": "22b675fa-1997-45b4-ae6b-f291b91f2226"
      },
      "source": [
        "pd.get_dummies(data=df, drop_first=True, prefix='heigh')"
      ],
      "execution_count": 19,
      "outputs": [
        {
          "output_type": "execute_result",
          "data": {
            "text/html": [
              "<div>\n",
              "<style scoped>\n",
              "    .dataframe tbody tr th:only-of-type {\n",
              "        vertical-align: middle;\n",
              "    }\n",
              "\n",
              "    .dataframe tbody tr th {\n",
              "        vertical-align: top;\n",
              "    }\n",
              "\n",
              "    .dataframe thead th {\n",
              "        text-align: right;\n",
              "    }\n",
              "</style>\n",
              "<table border=\"1\" class=\"dataframe\">\n",
              "  <thead>\n",
              "    <tr style=\"text-align: right;\">\n",
              "      <th></th>\n",
              "      <th>height</th>\n",
              "      <th>heigh_medium</th>\n",
              "      <th>heigh_high</th>\n",
              "    </tr>\n",
              "  </thead>\n",
              "  <tbody>\n",
              "    <tr>\n",
              "      <th>0</th>\n",
              "      <td>175.0</td>\n",
              "      <td>0</td>\n",
              "      <td>0</td>\n",
              "    </tr>\n",
              "    <tr>\n",
              "      <th>1</th>\n",
              "      <td>178.5</td>\n",
              "      <td>1</td>\n",
              "      <td>0</td>\n",
              "    </tr>\n",
              "    <tr>\n",
              "      <th>2</th>\n",
              "      <td>185.0</td>\n",
              "      <td>0</td>\n",
              "      <td>1</td>\n",
              "    </tr>\n",
              "    <tr>\n",
              "      <th>3</th>\n",
              "      <td>191.0</td>\n",
              "      <td>0</td>\n",
              "      <td>1</td>\n",
              "    </tr>\n",
              "    <tr>\n",
              "      <th>4</th>\n",
              "      <td>184.5</td>\n",
              "      <td>0</td>\n",
              "      <td>1</td>\n",
              "    </tr>\n",
              "    <tr>\n",
              "      <th>5</th>\n",
              "      <td>183.0</td>\n",
              "      <td>0</td>\n",
              "      <td>1</td>\n",
              "    </tr>\n",
              "    <tr>\n",
              "      <th>6</th>\n",
              "      <td>168.0</td>\n",
              "      <td>0</td>\n",
              "      <td>0</td>\n",
              "    </tr>\n",
              "  </tbody>\n",
              "</table>\n",
              "</div>"
            ],
            "text/plain": [
              "   height  heigh_medium  heigh_high\n",
              "0   175.0             0           0\n",
              "1   178.5             1           0\n",
              "2   185.0             0           1\n",
              "3   191.0             0           1\n",
              "4   184.5             0           1\n",
              "5   183.0             0           1\n",
              "6   168.0             0           0"
            ]
          },
          "metadata": {
            "tags": []
          },
          "execution_count": 19
        }
      ]
    },
    {
      "cell_type": "markdown",
      "metadata": {
        "id": "sWKIjlVD9sQ1"
      },
      "source": [
        "### <a name='5'></a> Ekstrakcja cech"
      ]
    },
    {
      "cell_type": "code",
      "metadata": {
        "colab": {
          "base_uri": "https://localhost:8080/",
          "height": 143
        },
        "id": "H5tBR9sP9brE",
        "outputId": "a1881b7d-af9d-4830-e750-664b2e8115fe"
      },
      "source": [
        "df = pd.DataFrame(data={'lang': [['PL', 'ENG'], ['GER', 'ENG', 'PL', 'FRA'], ['RUS']]})\n",
        "df"
      ],
      "execution_count": 20,
      "outputs": [
        {
          "output_type": "execute_result",
          "data": {
            "text/html": [
              "<div>\n",
              "<style scoped>\n",
              "    .dataframe tbody tr th:only-of-type {\n",
              "        vertical-align: middle;\n",
              "    }\n",
              "\n",
              "    .dataframe tbody tr th {\n",
              "        vertical-align: top;\n",
              "    }\n",
              "\n",
              "    .dataframe thead th {\n",
              "        text-align: right;\n",
              "    }\n",
              "</style>\n",
              "<table border=\"1\" class=\"dataframe\">\n",
              "  <thead>\n",
              "    <tr style=\"text-align: right;\">\n",
              "      <th></th>\n",
              "      <th>lang</th>\n",
              "    </tr>\n",
              "  </thead>\n",
              "  <tbody>\n",
              "    <tr>\n",
              "      <th>0</th>\n",
              "      <td>[PL, ENG]</td>\n",
              "    </tr>\n",
              "    <tr>\n",
              "      <th>1</th>\n",
              "      <td>[GER, ENG, PL, FRA]</td>\n",
              "    </tr>\n",
              "    <tr>\n",
              "      <th>2</th>\n",
              "      <td>[RUS]</td>\n",
              "    </tr>\n",
              "  </tbody>\n",
              "</table>\n",
              "</div>"
            ],
            "text/plain": [
              "                  lang\n",
              "0            [PL, ENG]\n",
              "1  [GER, ENG, PL, FRA]\n",
              "2                [RUS]"
            ]
          },
          "metadata": {
            "tags": []
          },
          "execution_count": 20
        }
      ]
    },
    {
      "cell_type": "code",
      "metadata": {
        "colab": {
          "base_uri": "https://localhost:8080/",
          "height": 143
        },
        "id": "wrC7_XdF9yf8",
        "outputId": "886a461a-caae-4353-faef-f26dcaa4ea34"
      },
      "source": [
        "df['lang_number'] = df['lang'].apply(len)\n",
        "df"
      ],
      "execution_count": 21,
      "outputs": [
        {
          "output_type": "execute_result",
          "data": {
            "text/html": [
              "<div>\n",
              "<style scoped>\n",
              "    .dataframe tbody tr th:only-of-type {\n",
              "        vertical-align: middle;\n",
              "    }\n",
              "\n",
              "    .dataframe tbody tr th {\n",
              "        vertical-align: top;\n",
              "    }\n",
              "\n",
              "    .dataframe thead th {\n",
              "        text-align: right;\n",
              "    }\n",
              "</style>\n",
              "<table border=\"1\" class=\"dataframe\">\n",
              "  <thead>\n",
              "    <tr style=\"text-align: right;\">\n",
              "      <th></th>\n",
              "      <th>lang</th>\n",
              "      <th>lang_number</th>\n",
              "    </tr>\n",
              "  </thead>\n",
              "  <tbody>\n",
              "    <tr>\n",
              "      <th>0</th>\n",
              "      <td>[PL, ENG]</td>\n",
              "      <td>2</td>\n",
              "    </tr>\n",
              "    <tr>\n",
              "      <th>1</th>\n",
              "      <td>[GER, ENG, PL, FRA]</td>\n",
              "      <td>4</td>\n",
              "    </tr>\n",
              "    <tr>\n",
              "      <th>2</th>\n",
              "      <td>[RUS]</td>\n",
              "      <td>1</td>\n",
              "    </tr>\n",
              "  </tbody>\n",
              "</table>\n",
              "</div>"
            ],
            "text/plain": [
              "                  lang  lang_number\n",
              "0            [PL, ENG]            2\n",
              "1  [GER, ENG, PL, FRA]            4\n",
              "2                [RUS]            1"
            ]
          },
          "metadata": {
            "tags": []
          },
          "execution_count": 21
        }
      ]
    },
    {
      "cell_type": "code",
      "metadata": {
        "colab": {
          "base_uri": "https://localhost:8080/",
          "height": 143
        },
        "id": "c0Lj02_A-Lw0",
        "outputId": "74b46720-2315-4307-ce93-6a25cc96566f"
      },
      "source": [
        "df['PL_flag'] = df['lang'].apply(lambda x: 1 if 'PL' in x else 0)\n",
        "df"
      ],
      "execution_count": 22,
      "outputs": [
        {
          "output_type": "execute_result",
          "data": {
            "text/html": [
              "<div>\n",
              "<style scoped>\n",
              "    .dataframe tbody tr th:only-of-type {\n",
              "        vertical-align: middle;\n",
              "    }\n",
              "\n",
              "    .dataframe tbody tr th {\n",
              "        vertical-align: top;\n",
              "    }\n",
              "\n",
              "    .dataframe thead th {\n",
              "        text-align: right;\n",
              "    }\n",
              "</style>\n",
              "<table border=\"1\" class=\"dataframe\">\n",
              "  <thead>\n",
              "    <tr style=\"text-align: right;\">\n",
              "      <th></th>\n",
              "      <th>lang</th>\n",
              "      <th>lang_number</th>\n",
              "      <th>PL_flag</th>\n",
              "    </tr>\n",
              "  </thead>\n",
              "  <tbody>\n",
              "    <tr>\n",
              "      <th>0</th>\n",
              "      <td>[PL, ENG]</td>\n",
              "      <td>2</td>\n",
              "      <td>1</td>\n",
              "    </tr>\n",
              "    <tr>\n",
              "      <th>1</th>\n",
              "      <td>[GER, ENG, PL, FRA]</td>\n",
              "      <td>4</td>\n",
              "      <td>1</td>\n",
              "    </tr>\n",
              "    <tr>\n",
              "      <th>2</th>\n",
              "      <td>[RUS]</td>\n",
              "      <td>1</td>\n",
              "      <td>0</td>\n",
              "    </tr>\n",
              "  </tbody>\n",
              "</table>\n",
              "</div>"
            ],
            "text/plain": [
              "                  lang  lang_number  PL_flag\n",
              "0            [PL, ENG]            2        1\n",
              "1  [GER, ENG, PL, FRA]            4        1\n",
              "2                [RUS]            1        0"
            ]
          },
          "metadata": {
            "tags": []
          },
          "execution_count": 22
        }
      ]
    },
    {
      "cell_type": "code",
      "metadata": {
        "colab": {
          "base_uri": "https://localhost:8080/",
          "height": 143
        },
        "id": "s_l2dSjF-1jU",
        "outputId": "a10f9853-2286-4a12-ae75-c1b8ad7b4aa6"
      },
      "source": [
        "df = pd.DataFrame(data={'website': ['wp.pl', 'onet.pl', 'google.com']})\n",
        "df"
      ],
      "execution_count": 23,
      "outputs": [
        {
          "output_type": "execute_result",
          "data": {
            "text/html": [
              "<div>\n",
              "<style scoped>\n",
              "    .dataframe tbody tr th:only-of-type {\n",
              "        vertical-align: middle;\n",
              "    }\n",
              "\n",
              "    .dataframe tbody tr th {\n",
              "        vertical-align: top;\n",
              "    }\n",
              "\n",
              "    .dataframe thead th {\n",
              "        text-align: right;\n",
              "    }\n",
              "</style>\n",
              "<table border=\"1\" class=\"dataframe\">\n",
              "  <thead>\n",
              "    <tr style=\"text-align: right;\">\n",
              "      <th></th>\n",
              "      <th>website</th>\n",
              "    </tr>\n",
              "  </thead>\n",
              "  <tbody>\n",
              "    <tr>\n",
              "      <th>0</th>\n",
              "      <td>wp.pl</td>\n",
              "    </tr>\n",
              "    <tr>\n",
              "      <th>1</th>\n",
              "      <td>onet.pl</td>\n",
              "    </tr>\n",
              "    <tr>\n",
              "      <th>2</th>\n",
              "      <td>google.com</td>\n",
              "    </tr>\n",
              "  </tbody>\n",
              "</table>\n",
              "</div>"
            ],
            "text/plain": [
              "      website\n",
              "0       wp.pl\n",
              "1     onet.pl\n",
              "2  google.com"
            ]
          },
          "metadata": {
            "tags": []
          },
          "execution_count": 23
        }
      ]
    },
    {
      "cell_type": "code",
      "metadata": {
        "colab": {
          "base_uri": "https://localhost:8080/",
          "height": 143
        },
        "id": "mWLBusfd_LAN",
        "outputId": "1fa9302b-b9e7-40d1-c220-b6649e33fb9f"
      },
      "source": [
        "df['website'].str.split('.', expand=True)"
      ],
      "execution_count": 25,
      "outputs": [
        {
          "output_type": "execute_result",
          "data": {
            "text/html": [
              "<div>\n",
              "<style scoped>\n",
              "    .dataframe tbody tr th:only-of-type {\n",
              "        vertical-align: middle;\n",
              "    }\n",
              "\n",
              "    .dataframe tbody tr th {\n",
              "        vertical-align: top;\n",
              "    }\n",
              "\n",
              "    .dataframe thead th {\n",
              "        text-align: right;\n",
              "    }\n",
              "</style>\n",
              "<table border=\"1\" class=\"dataframe\">\n",
              "  <thead>\n",
              "    <tr style=\"text-align: right;\">\n",
              "      <th></th>\n",
              "      <th>0</th>\n",
              "      <th>1</th>\n",
              "    </tr>\n",
              "  </thead>\n",
              "  <tbody>\n",
              "    <tr>\n",
              "      <th>0</th>\n",
              "      <td>wp</td>\n",
              "      <td>pl</td>\n",
              "    </tr>\n",
              "    <tr>\n",
              "      <th>1</th>\n",
              "      <td>onet</td>\n",
              "      <td>pl</td>\n",
              "    </tr>\n",
              "    <tr>\n",
              "      <th>2</th>\n",
              "      <td>google</td>\n",
              "      <td>com</td>\n",
              "    </tr>\n",
              "  </tbody>\n",
              "</table>\n",
              "</div>"
            ],
            "text/plain": [
              "        0    1\n",
              "0      wp   pl\n",
              "1    onet   pl\n",
              "2  google  com"
            ]
          },
          "metadata": {
            "tags": []
          },
          "execution_count": 25
        }
      ]
    },
    {
      "cell_type": "code",
      "metadata": {
        "colab": {
          "base_uri": "https://localhost:8080/",
          "height": 143
        },
        "id": "mxQzwhZO_mk1",
        "outputId": "ac366460-5dbc-453f-80f3-7401aad169c3"
      },
      "source": [
        "new = df['website'].str.split('.', expand=True)\n",
        "df['portal'] = new[0]\n",
        "df['extension'] = new[1]\n",
        "df"
      ],
      "execution_count": 26,
      "outputs": [
        {
          "output_type": "execute_result",
          "data": {
            "text/html": [
              "<div>\n",
              "<style scoped>\n",
              "    .dataframe tbody tr th:only-of-type {\n",
              "        vertical-align: middle;\n",
              "    }\n",
              "\n",
              "    .dataframe tbody tr th {\n",
              "        vertical-align: top;\n",
              "    }\n",
              "\n",
              "    .dataframe thead th {\n",
              "        text-align: right;\n",
              "    }\n",
              "</style>\n",
              "<table border=\"1\" class=\"dataframe\">\n",
              "  <thead>\n",
              "    <tr style=\"text-align: right;\">\n",
              "      <th></th>\n",
              "      <th>website</th>\n",
              "      <th>portal</th>\n",
              "      <th>extension</th>\n",
              "    </tr>\n",
              "  </thead>\n",
              "  <tbody>\n",
              "    <tr>\n",
              "      <th>0</th>\n",
              "      <td>wp.pl</td>\n",
              "      <td>wp</td>\n",
              "      <td>pl</td>\n",
              "    </tr>\n",
              "    <tr>\n",
              "      <th>1</th>\n",
              "      <td>onet.pl</td>\n",
              "      <td>onet</td>\n",
              "      <td>pl</td>\n",
              "    </tr>\n",
              "    <tr>\n",
              "      <th>2</th>\n",
              "      <td>google.com</td>\n",
              "      <td>google</td>\n",
              "      <td>com</td>\n",
              "    </tr>\n",
              "  </tbody>\n",
              "</table>\n",
              "</div>"
            ],
            "text/plain": [
              "      website  portal extension\n",
              "0       wp.pl      wp        pl\n",
              "1     onet.pl    onet        pl\n",
              "2  google.com  google       com"
            ]
          },
          "metadata": {
            "tags": []
          },
          "execution_count": 26
        }
      ]
    },
    {
      "cell_type": "code",
      "metadata": {
        "id": "E7J0m0guAVM_"
      },
      "source": [
        ""
      ],
      "execution_count": null,
      "outputs": []
    }
  ]
}