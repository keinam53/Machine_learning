{
  "nbformat": 4,
  "nbformat_minor": 0,
  "metadata": {
    "colab": {
      "name": "02_apriori.ipynb",
      "provenance": [],
      "machine_shape": "hm",
      "include_colab_link": true
    },
    "kernelspec": {
      "name": "python3",
      "display_name": "Python 3"
    },
    "accelerator": "GPU"
  },
  "cells": [
    {
      "cell_type": "markdown",
      "metadata": {
        "id": "view-in-github",
        "colab_type": "text"
      },
      "source": [
        "<a href=\"https://colab.research.google.com/github/keinam53/Machine_learning/blob/main/Uczenie_nienadzorowane/3_Reguly_asocjacyjne/2_Apriori.ipynb\" target=\"_parent\"><img src=\"https://colab.research.google.com/assets/colab-badge.svg\" alt=\"Open In Colab\"/></a>"
      ]
    },
    {
      "cell_type": "markdown",
      "metadata": {
        "id": "C80St0V-_VIi"
      },
      "source": [
        "###Apriori cz2\n",
        "1. [Import bibliotek](#0)\n",
        "2. [Załadownaie danych](#1)\n",
        "3. [Przygotowanie danych](#2)\n",
        "4. [Kodowanie transakcji](#3)\n",
        "5. [Algorytm Apriori](#4)\n",
        "\n",
        "\n"
      ]
    },
    {
      "cell_type": "markdown",
      "metadata": {
        "id": "dCogYvFX_YD4"
      },
      "source": [
        "### <a name='0'></a> Import bibliotek"
      ]
    },
    {
      "cell_type": "code",
      "metadata": {
        "id": "h1UzDFRtN3rJ"
      },
      "source": [
        "import pandas as pd\n",
        "\n",
        "pd.set_option('display.float_format', lambda x: f'{x:.2f}')"
      ],
      "execution_count": 1,
      "outputs": []
    },
    {
      "cell_type": "markdown",
      "metadata": {
        "id": "Gfy_mLSlSQZj"
      },
      "source": [
        "### <a name='1'></a> Załadownaie danych"
      ]
    },
    {
      "cell_type": "code",
      "metadata": {
        "id": "iMjFzTjHhiOP",
        "colab": {
          "base_uri": "https://localhost:8080/"
        },
        "outputId": "03bfb844-491f-4c6a-8669-e14dbee88222"
      },
      "source": [
        "!wget https://storage.googleapis.com/esmartdata-courses-files/ml-course/products.csv\n",
        "!wget https://storage.googleapis.com/esmartdata-courses-files/ml-course/orders.csv"
      ],
      "execution_count": 2,
      "outputs": [
        {
          "output_type": "stream",
          "text": [
            "--2021-08-19 16:09:59--  https://storage.googleapis.com/esmartdata-courses-files/ml-course/products.csv\n",
            "Resolving storage.googleapis.com (storage.googleapis.com)... 64.233.167.128, 74.125.133.128, 74.125.140.128, ...\n",
            "Connecting to storage.googleapis.com (storage.googleapis.com)|64.233.167.128|:443... connected.\n",
            "HTTP request sent, awaiting response... 200 OK\n",
            "Length: 2166953 (2.1M) [application/octet-stream]\n",
            "Saving to: ‘products.csv’\n",
            "\n",
            "\rproducts.csv          0%[                    ]       0  --.-KB/s               \rproducts.csv        100%[===================>]   2.07M  --.-KB/s    in 0.02s   \n",
            "\n",
            "2021-08-19 16:09:59 (109 MB/s) - ‘products.csv’ saved [2166953/2166953]\n",
            "\n",
            "--2021-08-19 16:09:59--  https://storage.googleapis.com/esmartdata-courses-files/ml-course/orders.csv\n",
            "Resolving storage.googleapis.com (storage.googleapis.com)... 173.194.76.128, 66.102.1.128, 172.253.120.128, ...\n",
            "Connecting to storage.googleapis.com (storage.googleapis.com)|173.194.76.128|:443... connected.\n",
            "HTTP request sent, awaiting response... 200 OK\n",
            "Length: 24680147 (24M) [application/octet-stream]\n",
            "Saving to: ‘orders.csv’\n",
            "\n",
            "orders.csv          100%[===================>]  23.54M   129MB/s    in 0.2s    \n",
            "\n",
            "2021-08-19 16:09:59 (129 MB/s) - ‘orders.csv’ saved [24680147/24680147]\n",
            "\n"
          ],
          "name": "stdout"
        }
      ]
    },
    {
      "cell_type": "code",
      "metadata": {
        "id": "MeLHR8d-Orh4",
        "colab": {
          "base_uri": "https://localhost:8080/",
          "height": 206
        },
        "outputId": "7cbdb2c0-6b7b-451a-a52c-75d7e38b22cc"
      },
      "source": [
        "products = pd.read_csv('products.csv', usecols=['product_id', 'product_name'])\n",
        "products.head()"
      ],
      "execution_count": 3,
      "outputs": [
        {
          "output_type": "execute_result",
          "data": {
            "text/html": [
              "<div>\n",
              "<style scoped>\n",
              "    .dataframe tbody tr th:only-of-type {\n",
              "        vertical-align: middle;\n",
              "    }\n",
              "\n",
              "    .dataframe tbody tr th {\n",
              "        vertical-align: top;\n",
              "    }\n",
              "\n",
              "    .dataframe thead th {\n",
              "        text-align: right;\n",
              "    }\n",
              "</style>\n",
              "<table border=\"1\" class=\"dataframe\">\n",
              "  <thead>\n",
              "    <tr style=\"text-align: right;\">\n",
              "      <th></th>\n",
              "      <th>product_id</th>\n",
              "      <th>product_name</th>\n",
              "    </tr>\n",
              "  </thead>\n",
              "  <tbody>\n",
              "    <tr>\n",
              "      <th>0</th>\n",
              "      <td>1</td>\n",
              "      <td>Chocolate Sandwich Cookies</td>\n",
              "    </tr>\n",
              "    <tr>\n",
              "      <th>1</th>\n",
              "      <td>2</td>\n",
              "      <td>All-Seasons Salt</td>\n",
              "    </tr>\n",
              "    <tr>\n",
              "      <th>2</th>\n",
              "      <td>3</td>\n",
              "      <td>Robust Golden Unsweetened Oolong Tea</td>\n",
              "    </tr>\n",
              "    <tr>\n",
              "      <th>3</th>\n",
              "      <td>4</td>\n",
              "      <td>Smart Ones Classic Favorites Mini Rigatoni Wit...</td>\n",
              "    </tr>\n",
              "    <tr>\n",
              "      <th>4</th>\n",
              "      <td>5</td>\n",
              "      <td>Green Chile Anytime Sauce</td>\n",
              "    </tr>\n",
              "  </tbody>\n",
              "</table>\n",
              "</div>"
            ],
            "text/plain": [
              "   product_id                                       product_name\n",
              "0           1                         Chocolate Sandwich Cookies\n",
              "1           2                                   All-Seasons Salt\n",
              "2           3               Robust Golden Unsweetened Oolong Tea\n",
              "3           4  Smart Ones Classic Favorites Mini Rigatoni Wit...\n",
              "4           5                          Green Chile Anytime Sauce"
            ]
          },
          "metadata": {},
          "execution_count": 3
        }
      ]
    },
    {
      "cell_type": "code",
      "metadata": {
        "id": "GjtwaJ8COwLt",
        "colab": {
          "base_uri": "https://localhost:8080/",
          "height": 206
        },
        "outputId": "aacdf8f2-dfa1-4a2d-fd81-39d2af9f183a"
      },
      "source": [
        "orders = pd.read_csv('orders.csv', usecols=['order_id', 'product_id'])\n",
        "orders.head()"
      ],
      "execution_count": 4,
      "outputs": [
        {
          "output_type": "execute_result",
          "data": {
            "text/html": [
              "<div>\n",
              "<style scoped>\n",
              "    .dataframe tbody tr th:only-of-type {\n",
              "        vertical-align: middle;\n",
              "    }\n",
              "\n",
              "    .dataframe tbody tr th {\n",
              "        vertical-align: top;\n",
              "    }\n",
              "\n",
              "    .dataframe thead th {\n",
              "        text-align: right;\n",
              "    }\n",
              "</style>\n",
              "<table border=\"1\" class=\"dataframe\">\n",
              "  <thead>\n",
              "    <tr style=\"text-align: right;\">\n",
              "      <th></th>\n",
              "      <th>order_id</th>\n",
              "      <th>product_id</th>\n",
              "    </tr>\n",
              "  </thead>\n",
              "  <tbody>\n",
              "    <tr>\n",
              "      <th>0</th>\n",
              "      <td>1</td>\n",
              "      <td>49302</td>\n",
              "    </tr>\n",
              "    <tr>\n",
              "      <th>1</th>\n",
              "      <td>1</td>\n",
              "      <td>11109</td>\n",
              "    </tr>\n",
              "    <tr>\n",
              "      <th>2</th>\n",
              "      <td>1</td>\n",
              "      <td>10246</td>\n",
              "    </tr>\n",
              "    <tr>\n",
              "      <th>3</th>\n",
              "      <td>1</td>\n",
              "      <td>49683</td>\n",
              "    </tr>\n",
              "    <tr>\n",
              "      <th>4</th>\n",
              "      <td>1</td>\n",
              "      <td>43633</td>\n",
              "    </tr>\n",
              "  </tbody>\n",
              "</table>\n",
              "</div>"
            ],
            "text/plain": [
              "   order_id  product_id\n",
              "0         1       49302\n",
              "1         1       11109\n",
              "2         1       10246\n",
              "3         1       49683\n",
              "4         1       43633"
            ]
          },
          "metadata": {},
          "execution_count": 4
        }
      ]
    },
    {
      "cell_type": "markdown",
      "metadata": {
        "id": "BU5EtQt9Sai_"
      },
      "source": [
        "### <a name='2'></a> Przygotowanie danych"
      ]
    },
    {
      "cell_type": "code",
      "metadata": {
        "id": "QuhRw60QPJxp",
        "colab": {
          "base_uri": "https://localhost:8080/",
          "height": 206
        },
        "outputId": "e1c3d8e0-d277-425a-dfc4-d907939b503d"
      },
      "source": [
        "data = pd.merge(orders, products, how='inner', on='product_id', sort=True)\n",
        "data = data.sort_values(by='order_id')\n",
        "data.head()"
      ],
      "execution_count": 5,
      "outputs": [
        {
          "output_type": "execute_result",
          "data": {
            "text/html": [
              "<div>\n",
              "<style scoped>\n",
              "    .dataframe tbody tr th:only-of-type {\n",
              "        vertical-align: middle;\n",
              "    }\n",
              "\n",
              "    .dataframe tbody tr th {\n",
              "        vertical-align: top;\n",
              "    }\n",
              "\n",
              "    .dataframe thead th {\n",
              "        text-align: right;\n",
              "    }\n",
              "</style>\n",
              "<table border=\"1\" class=\"dataframe\">\n",
              "  <thead>\n",
              "    <tr style=\"text-align: right;\">\n",
              "      <th></th>\n",
              "      <th>order_id</th>\n",
              "      <th>product_id</th>\n",
              "      <th>product_name</th>\n",
              "    </tr>\n",
              "  </thead>\n",
              "  <tbody>\n",
              "    <tr>\n",
              "      <th>588447</th>\n",
              "      <td>1</td>\n",
              "      <td>22035</td>\n",
              "      <td>Organic Whole String Cheese</td>\n",
              "    </tr>\n",
              "    <tr>\n",
              "      <th>256931</th>\n",
              "      <td>1</td>\n",
              "      <td>10246</td>\n",
              "      <td>Organic Celery Hearts</td>\n",
              "    </tr>\n",
              "    <tr>\n",
              "      <th>277441</th>\n",
              "      <td>1</td>\n",
              "      <td>11109</td>\n",
              "      <td>Organic 4% Milk Fat Whole Milk Cottage Cheese</td>\n",
              "    </tr>\n",
              "    <tr>\n",
              "      <th>1194893</th>\n",
              "      <td>1</td>\n",
              "      <td>43633</td>\n",
              "      <td>Lightly Smoked Sardines in Olive Oil</td>\n",
              "    </tr>\n",
              "    <tr>\n",
              "      <th>1302365</th>\n",
              "      <td>1</td>\n",
              "      <td>47209</td>\n",
              "      <td>Organic Hass Avocado</td>\n",
              "    </tr>\n",
              "  </tbody>\n",
              "</table>\n",
              "</div>"
            ],
            "text/plain": [
              "         order_id  product_id                                   product_name\n",
              "588447          1       22035                    Organic Whole String Cheese\n",
              "256931          1       10246                          Organic Celery Hearts\n",
              "277441          1       11109  Organic 4% Milk Fat Whole Milk Cottage Cheese\n",
              "1194893         1       43633           Lightly Smoked Sardines in Olive Oil\n",
              "1302365         1       47209                           Organic Hass Avocado"
            ]
          },
          "metadata": {},
          "execution_count": 5
        }
      ]
    },
    {
      "cell_type": "code",
      "metadata": {
        "id": "DCdXwfd4PmPE",
        "colab": {
          "base_uri": "https://localhost:8080/",
          "height": 300
        },
        "outputId": "10f10d89-a4b7-40ca-a024-cf0e44ed5684"
      },
      "source": [
        "data.describe()"
      ],
      "execution_count": 6,
      "outputs": [
        {
          "output_type": "execute_result",
          "data": {
            "text/html": [
              "<div>\n",
              "<style scoped>\n",
              "    .dataframe tbody tr th:only-of-type {\n",
              "        vertical-align: middle;\n",
              "    }\n",
              "\n",
              "    .dataframe tbody tr th {\n",
              "        vertical-align: top;\n",
              "    }\n",
              "\n",
              "    .dataframe thead th {\n",
              "        text-align: right;\n",
              "    }\n",
              "</style>\n",
              "<table border=\"1\" class=\"dataframe\">\n",
              "  <thead>\n",
              "    <tr style=\"text-align: right;\">\n",
              "      <th></th>\n",
              "      <th>order_id</th>\n",
              "      <th>product_id</th>\n",
              "    </tr>\n",
              "  </thead>\n",
              "  <tbody>\n",
              "    <tr>\n",
              "      <th>count</th>\n",
              "      <td>1384617.00</td>\n",
              "      <td>1384617.00</td>\n",
              "    </tr>\n",
              "    <tr>\n",
              "      <th>mean</th>\n",
              "      <td>1706297.62</td>\n",
              "      <td>25556.24</td>\n",
              "    </tr>\n",
              "    <tr>\n",
              "      <th>std</th>\n",
              "      <td>989732.65</td>\n",
              "      <td>14121.27</td>\n",
              "    </tr>\n",
              "    <tr>\n",
              "      <th>min</th>\n",
              "      <td>1.00</td>\n",
              "      <td>1.00</td>\n",
              "    </tr>\n",
              "    <tr>\n",
              "      <th>25%</th>\n",
              "      <td>843370.00</td>\n",
              "      <td>13380.00</td>\n",
              "    </tr>\n",
              "    <tr>\n",
              "      <th>50%</th>\n",
              "      <td>1701880.00</td>\n",
              "      <td>25298.00</td>\n",
              "    </tr>\n",
              "    <tr>\n",
              "      <th>75%</th>\n",
              "      <td>2568023.00</td>\n",
              "      <td>37940.00</td>\n",
              "    </tr>\n",
              "    <tr>\n",
              "      <th>max</th>\n",
              "      <td>3421070.00</td>\n",
              "      <td>49688.00</td>\n",
              "    </tr>\n",
              "  </tbody>\n",
              "</table>\n",
              "</div>"
            ],
            "text/plain": [
              "        order_id  product_id\n",
              "count 1384617.00  1384617.00\n",
              "mean  1706297.62    25556.24\n",
              "std    989732.65    14121.27\n",
              "min         1.00        1.00\n",
              "25%    843370.00    13380.00\n",
              "50%   1701880.00    25298.00\n",
              "75%   2568023.00    37940.00\n",
              "max   3421070.00    49688.00"
            ]
          },
          "metadata": {},
          "execution_count": 6
        }
      ]
    },
    {
      "cell_type": "code",
      "metadata": {
        "id": "BwozcaSZR41L",
        "colab": {
          "base_uri": "https://localhost:8080/"
        },
        "outputId": "49ced022-81f5-48c2-a616-cd790ff96390"
      },
      "source": [
        "# rozkład produktów\n",
        "data['product_name'].value_counts()"
      ],
      "execution_count": 7,
      "outputs": [
        {
          "output_type": "execute_result",
          "data": {
            "text/plain": [
              "Banana                                 18726\n",
              "Bag of Organic Bananas                 15480\n",
              "Organic Strawberries                   10894\n",
              "Organic Baby Spinach                    9784\n",
              "Large Lemon                             8135\n",
              "                                       ...  \n",
              "Cherry Fruit Spread                        1\n",
              "Dark Magic K Cup Coffee                    1\n",
              "Red Thai Curry Simmer Sauce                1\n",
              "Whole Wheat, No. 17 Spaghetti              1\n",
              "Organic Sea Salt 70% Dark Chocolate        1\n",
              "Name: product_name, Length: 39123, dtype: int64"
            ]
          },
          "metadata": {},
          "execution_count": 7
        }
      ]
    },
    {
      "cell_type": "code",
      "metadata": {
        "id": "k_VXYgJ_S-Ox",
        "colab": {
          "base_uri": "https://localhost:8080/"
        },
        "outputId": "14762ecb-97a3-4a38-c25a-1aec95356836"
      },
      "source": [
        "# liczba transakcji\n",
        "data['order_id'].nunique()"
      ],
      "execution_count": 8,
      "outputs": [
        {
          "output_type": "execute_result",
          "data": {
            "text/plain": [
              "131209"
            ]
          },
          "metadata": {},
          "execution_count": 8
        }
      ]
    },
    {
      "cell_type": "code",
      "metadata": {
        "id": "MoqM_XDBTg4g",
        "colab": {
          "base_uri": "https://localhost:8080/"
        },
        "outputId": "b77e58c0-6b0e-48b1-e98d-eb67c89d0e73"
      },
      "source": [
        "transactions = data.groupby(by='order_id')['product_name'].apply(lambda name: ','.join(name))\n",
        "transactions"
      ],
      "execution_count": 9,
      "outputs": [
        {
          "output_type": "execute_result",
          "data": {
            "text/plain": [
              "order_id\n",
              "1          Organic Whole String Cheese,Organic Celery Hea...\n",
              "36         Super Greens Salad,Spring Water,Organic Garnet...\n",
              "38         Green Peas,Organic Baby Arugula,Shelled Pistac...\n",
              "96         Organic Raspberries,Organic Pomegranate Kernel...\n",
              "98         Uncured Applewood Smoked Bacon,Black Beans,Org...\n",
              "                                 ...                        \n",
              "3421049    Gluten Free Rice Bread,Organic Baby Broccoli,O...\n",
              "3421056    Sparkling Lemon Water,Brioche Buns,Homestyle C...\n",
              "3421058    Classic Britannia Crisps,Club Soda Lower Sodiu...\n",
              "3421063    Natural Artesian Water,Organic Half & Half,Twi...\n",
              "3421070    Broccoli Florettes,Organic Unsweetened Almond ...\n",
              "Name: product_name, Length: 131209, dtype: object"
            ]
          },
          "metadata": {},
          "execution_count": 9
        }
      ]
    },
    {
      "cell_type": "code",
      "metadata": {
        "id": "w7OSUdo4UDDC",
        "colab": {
          "base_uri": "https://localhost:8080/"
        },
        "outputId": "a8c1b448-b687-4652-8f0f-fa57b1e6f217"
      },
      "source": [
        "transactions = transactions.str.split(',')\n",
        "transactions"
      ],
      "execution_count": 10,
      "outputs": [
        {
          "output_type": "execute_result",
          "data": {
            "text/plain": [
              "order_id\n",
              "1          [Organic Whole String Cheese, Organic Celery H...\n",
              "36         [Super Greens Salad, Spring Water, Organic Gar...\n",
              "38         [Green Peas, Organic Baby Arugula, Shelled Pis...\n",
              "96         [Organic Raspberries, Organic Pomegranate Kern...\n",
              "98         [Uncured Applewood Smoked Bacon, Black Beans, ...\n",
              "                                 ...                        \n",
              "3421049    [Gluten Free Rice Bread, Organic Baby Broccoli...\n",
              "3421056    [Sparkling Lemon Water, Brioche Buns, Homestyl...\n",
              "3421058    [Classic Britannia Crisps, Club Soda Lower Sod...\n",
              "3421063    [Natural Artesian Water, Organic Half & Half, ...\n",
              "3421070    [Broccoli Florettes, Organic Unsweetened Almon...\n",
              "Name: product_name, Length: 131209, dtype: object"
            ]
          },
          "metadata": {},
          "execution_count": 10
        }
      ]
    },
    {
      "cell_type": "markdown",
      "metadata": {
        "id": "6z-LfUIPShPp"
      },
      "source": [
        "### <a name='3'></a> Kodowanie transakcji"
      ]
    },
    {
      "cell_type": "code",
      "metadata": {
        "id": "Cy9FhFYUXLlz",
        "colab": {
          "base_uri": "https://localhost:8080/"
        },
        "outputId": "27ff82f2-dbe2-458b-b601-427cf16d5c6d"
      },
      "source": [
        "from mlxtend.preprocessing import TransactionEncoder\n",
        "\n",
        "encoder = TransactionEncoder()\n",
        "encoder.fit(transactions)\n",
        "transactions_encoded = encoder.transform(transactions, sparse=True)\n",
        "transactions_encoded"
      ],
      "execution_count": 11,
      "outputs": [
        {
          "output_type": "execute_result",
          "data": {
            "text/plain": [
              "<131209x40434 sparse matrix of type '<class 'numpy.bool_'>'\n",
              "\twith 1442410 stored elements in Compressed Sparse Row format>"
            ]
          },
          "metadata": {},
          "execution_count": 11
        }
      ]
    },
    {
      "cell_type": "code",
      "metadata": {
        "id": "z9uIysohYm7S"
      },
      "source": [
        "transactions_encoded_df = pd.DataFrame(transactions_encoded.toarray(), columns=encoder.columns_)"
      ],
      "execution_count": 12,
      "outputs": []
    },
    {
      "cell_type": "markdown",
      "metadata": {
        "id": "fC3HKl0GSsV4"
      },
      "source": [
        "### <a name='4'></a> Algorytm Apriori"
      ]
    },
    {
      "cell_type": "code",
      "metadata": {
        "id": "Yw3mMi8JX0gL",
        "colab": {
          "base_uri": "https://localhost:8080/",
          "height": 357
        },
        "outputId": "d3169c8b-3550-450f-97ce-f04dbaff6d48"
      },
      "source": [
        "from mlxtend.frequent_patterns import apriori, association_rules\n",
        "\n",
        "supports = apriori(transactions_encoded_df, min_support=0.01, use_colnames=True, n_jobs=-1)\n",
        "supports = supports.sort_values(by='support', ascending=False)\n",
        "supports.head(10)"
      ],
      "execution_count": null,
      "outputs": [
        {
          "output_type": "execute_result",
          "data": {
            "text/html": [
              "<div>\n",
              "<style scoped>\n",
              "    .dataframe tbody tr th:only-of-type {\n",
              "        vertical-align: middle;\n",
              "    }\n",
              "\n",
              "    .dataframe tbody tr th {\n",
              "        vertical-align: top;\n",
              "    }\n",
              "\n",
              "    .dataframe thead th {\n",
              "        text-align: right;\n",
              "    }\n",
              "</style>\n",
              "<table border=\"1\" class=\"dataframe\">\n",
              "  <thead>\n",
              "    <tr style=\"text-align: right;\">\n",
              "      <th></th>\n",
              "      <th>support</th>\n",
              "      <th>itemsets</th>\n",
              "    </tr>\n",
              "  </thead>\n",
              "  <tbody>\n",
              "    <tr>\n",
              "      <th>8</th>\n",
              "      <td>0.14</td>\n",
              "      <td>(Banana)</td>\n",
              "    </tr>\n",
              "    <tr>\n",
              "      <th>7</th>\n",
              "      <td>0.12</td>\n",
              "      <td>(Bag of Organic Bananas)</td>\n",
              "    </tr>\n",
              "    <tr>\n",
              "      <th>76</th>\n",
              "      <td>0.08</td>\n",
              "      <td>(Organic Strawberries)</td>\n",
              "    </tr>\n",
              "    <tr>\n",
              "      <th>41</th>\n",
              "      <td>0.07</td>\n",
              "      <td>(Organic Baby Spinach)</td>\n",
              "    </tr>\n",
              "    <tr>\n",
              "      <th>31</th>\n",
              "      <td>0.06</td>\n",
              "      <td>(Large Lemon)</td>\n",
              "    </tr>\n",
              "    <tr>\n",
              "      <th>37</th>\n",
              "      <td>0.06</td>\n",
              "      <td>(Organic Avocado)</td>\n",
              "    </tr>\n",
              "    <tr>\n",
              "      <th>61</th>\n",
              "      <td>0.06</td>\n",
              "      <td>(Organic Hass Avocado)</td>\n",
              "    </tr>\n",
              "    <tr>\n",
              "      <th>100</th>\n",
              "      <td>0.05</td>\n",
              "      <td>(Strawberries)</td>\n",
              "    </tr>\n",
              "    <tr>\n",
              "      <th>33</th>\n",
              "      <td>0.05</td>\n",
              "      <td>(Limes)</td>\n",
              "    </tr>\n",
              "    <tr>\n",
              "      <th>69</th>\n",
              "      <td>0.04</td>\n",
              "      <td>(Organic Raspberries)</td>\n",
              "    </tr>\n",
              "  </tbody>\n",
              "</table>\n",
              "</div>"
            ],
            "text/plain": [
              "     support                  itemsets\n",
              "8       0.14                  (Banana)\n",
              "7       0.12  (Bag of Organic Bananas)\n",
              "76      0.08    (Organic Strawberries)\n",
              "41      0.07    (Organic Baby Spinach)\n",
              "31      0.06             (Large Lemon)\n",
              "37      0.06         (Organic Avocado)\n",
              "61      0.06    (Organic Hass Avocado)\n",
              "100     0.05            (Strawberries)\n",
              "33      0.05                   (Limes)\n",
              "69      0.04     (Organic Raspberries)"
            ]
          },
          "metadata": {
            "tags": []
          },
          "execution_count": 15
        }
      ]
    },
    {
      "cell_type": "code",
      "metadata": {
        "id": "w9YR0_x-YeFo",
        "colab": {
          "base_uri": "https://localhost:8080/",
          "height": 511
        },
        "outputId": "0e2a0119-311d-49dc-913f-caaeb09a2d5a"
      },
      "source": [
        "rules = association_rules(supports, metric='confidence', min_threshold=0)\n",
        "rules = rules.iloc[:, [0, 1, 4, 5, 6]]\n",
        "rules = rules.sort_values(by='lift', ascending=False)\n",
        "rules.head(15)"
      ],
      "execution_count": null,
      "outputs": [
        {
          "output_type": "execute_result",
          "data": {
            "text/html": [
              "<div>\n",
              "<style scoped>\n",
              "    .dataframe tbody tr th:only-of-type {\n",
              "        vertical-align: middle;\n",
              "    }\n",
              "\n",
              "    .dataframe tbody tr th {\n",
              "        vertical-align: top;\n",
              "    }\n",
              "\n",
              "    .dataframe thead th {\n",
              "        text-align: right;\n",
              "    }\n",
              "</style>\n",
              "<table border=\"1\" class=\"dataframe\">\n",
              "  <thead>\n",
              "    <tr style=\"text-align: right;\">\n",
              "      <th></th>\n",
              "      <th>antecedents</th>\n",
              "      <th>consequents</th>\n",
              "      <th>support</th>\n",
              "      <th>confidence</th>\n",
              "      <th>lift</th>\n",
              "    </tr>\n",
              "  </thead>\n",
              "  <tbody>\n",
              "    <tr>\n",
              "      <th>27</th>\n",
              "      <td>( Bag)</td>\n",
              "      <td>(Clementines)</td>\n",
              "      <td>0.01</td>\n",
              "      <td>0.79</td>\n",
              "      <td>36.84</td>\n",
              "    </tr>\n",
              "    <tr>\n",
              "      <th>26</th>\n",
              "      <td>(Clementines)</td>\n",
              "      <td>( Bag)</td>\n",
              "      <td>0.01</td>\n",
              "      <td>0.52</td>\n",
              "      <td>36.84</td>\n",
              "    </tr>\n",
              "    <tr>\n",
              "      <th>23</th>\n",
              "      <td>(Limes)</td>\n",
              "      <td>(Large Lemon)</td>\n",
              "      <td>0.01</td>\n",
              "      <td>0.26</td>\n",
              "      <td>4.26</td>\n",
              "    </tr>\n",
              "    <tr>\n",
              "      <th>22</th>\n",
              "      <td>(Large Lemon)</td>\n",
              "      <td>(Limes)</td>\n",
              "      <td>0.01</td>\n",
              "      <td>0.20</td>\n",
              "      <td>4.26</td>\n",
              "    </tr>\n",
              "    <tr>\n",
              "      <th>18</th>\n",
              "      <td>(Organic Strawberries)</td>\n",
              "      <td>(Organic Raspberries)</td>\n",
              "      <td>0.01</td>\n",
              "      <td>0.15</td>\n",
              "      <td>3.63</td>\n",
              "    </tr>\n",
              "    <tr>\n",
              "      <th>19</th>\n",
              "      <td>(Organic Raspberries)</td>\n",
              "      <td>(Organic Strawberries)</td>\n",
              "      <td>0.01</td>\n",
              "      <td>0.30</td>\n",
              "      <td>3.63</td>\n",
              "    </tr>\n",
              "    <tr>\n",
              "      <th>31</th>\n",
              "      <td>(Organic Avocado)</td>\n",
              "      <td>(Large Lemon)</td>\n",
              "      <td>0.01</td>\n",
              "      <td>0.18</td>\n",
              "      <td>2.94</td>\n",
              "    </tr>\n",
              "    <tr>\n",
              "      <th>30</th>\n",
              "      <td>(Large Lemon)</td>\n",
              "      <td>(Organic Avocado)</td>\n",
              "      <td>0.01</td>\n",
              "      <td>0.17</td>\n",
              "      <td>2.94</td>\n",
              "    </tr>\n",
              "    <tr>\n",
              "      <th>2</th>\n",
              "      <td>(Organic Hass Avocado)</td>\n",
              "      <td>(Bag of Organic Bananas)</td>\n",
              "      <td>0.02</td>\n",
              "      <td>0.33</td>\n",
              "      <td>2.81</td>\n",
              "    </tr>\n",
              "    <tr>\n",
              "      <th>3</th>\n",
              "      <td>(Bag of Organic Bananas)</td>\n",
              "      <td>(Organic Hass Avocado)</td>\n",
              "      <td>0.02</td>\n",
              "      <td>0.16</td>\n",
              "      <td>2.81</td>\n",
              "    </tr>\n",
              "    <tr>\n",
              "      <th>17</th>\n",
              "      <td>(Bag of Organic Bananas)</td>\n",
              "      <td>(Organic Raspberries)</td>\n",
              "      <td>0.01</td>\n",
              "      <td>0.11</td>\n",
              "      <td>2.72</td>\n",
              "    </tr>\n",
              "    <tr>\n",
              "      <th>16</th>\n",
              "      <td>(Organic Raspberries)</td>\n",
              "      <td>(Bag of Organic Bananas)</td>\n",
              "      <td>0.01</td>\n",
              "      <td>0.32</td>\n",
              "      <td>2.72</td>\n",
              "    </tr>\n",
              "    <tr>\n",
              "      <th>24</th>\n",
              "      <td>(Organic Strawberries)</td>\n",
              "      <td>(Organic Hass Avocado)</td>\n",
              "      <td>0.01</td>\n",
              "      <td>0.14</td>\n",
              "      <td>2.54</td>\n",
              "    </tr>\n",
              "    <tr>\n",
              "      <th>25</th>\n",
              "      <td>(Organic Hass Avocado)</td>\n",
              "      <td>(Organic Strawberries)</td>\n",
              "      <td>0.01</td>\n",
              "      <td>0.21</td>\n",
              "      <td>2.54</td>\n",
              "    </tr>\n",
              "    <tr>\n",
              "      <th>28</th>\n",
              "      <td>(Organic Baby Spinach)</td>\n",
              "      <td>(Organic Avocado)</td>\n",
              "      <td>0.01</td>\n",
              "      <td>0.14</td>\n",
              "      <td>2.54</td>\n",
              "    </tr>\n",
              "  </tbody>\n",
              "</table>\n",
              "</div>"
            ],
            "text/plain": [
              "                 antecedents               consequents  ...  confidence  lift\n",
              "27                    ( Bag)             (Clementines)  ...        0.79 36.84\n",
              "26             (Clementines)                    ( Bag)  ...        0.52 36.84\n",
              "23                   (Limes)             (Large Lemon)  ...        0.26  4.26\n",
              "22             (Large Lemon)                   (Limes)  ...        0.20  4.26\n",
              "18    (Organic Strawberries)     (Organic Raspberries)  ...        0.15  3.63\n",
              "19     (Organic Raspberries)    (Organic Strawberries)  ...        0.30  3.63\n",
              "31         (Organic Avocado)             (Large Lemon)  ...        0.18  2.94\n",
              "30             (Large Lemon)         (Organic Avocado)  ...        0.17  2.94\n",
              "2     (Organic Hass Avocado)  (Bag of Organic Bananas)  ...        0.33  2.81\n",
              "3   (Bag of Organic Bananas)    (Organic Hass Avocado)  ...        0.16  2.81\n",
              "17  (Bag of Organic Bananas)     (Organic Raspberries)  ...        0.11  2.72\n",
              "16     (Organic Raspberries)  (Bag of Organic Bananas)  ...        0.32  2.72\n",
              "24    (Organic Strawberries)    (Organic Hass Avocado)  ...        0.14  2.54\n",
              "25    (Organic Hass Avocado)    (Organic Strawberries)  ...        0.21  2.54\n",
              "28    (Organic Baby Spinach)         (Organic Avocado)  ...        0.14  2.54\n",
              "\n",
              "[15 rows x 5 columns]"
            ]
          },
          "metadata": {
            "tags": []
          },
          "execution_count": 16
        }
      ]
    },
    {
      "cell_type": "code",
      "metadata": {
        "id": "bni0nMj7fHF1"
      },
      "source": [
        ""
      ],
      "execution_count": null,
      "outputs": []
    }
  ]
}